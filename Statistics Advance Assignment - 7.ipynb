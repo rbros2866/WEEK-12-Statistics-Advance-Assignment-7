{
 "cells": [
  {
   "cell_type": "markdown",
   "metadata": {},
   "source": [
    "**Q1.** Write a Python function that takes in two arrays of data and calculates the F-value for a variance ratio test.\n",
    "\n",
    " The function should return the F-value and the corresponding p-value for the test."
   ]
  },
  {
   "cell_type": "code",
   "execution_count": 3,
   "metadata": {},
   "outputs": [
    {
     "name": "stdout",
     "output_type": "stream",
     "text": [
      "F-value: 3.386609071274298\n",
      "P-value: 0.10300206264124373\n"
     ]
    }
   ],
   "source": [
    "import scipy.stats as stats\n",
    "\n",
    "def calculate_f_value_and_p_value(data1, data2):\n",
    "    \n",
    "    f_value, p_value = stats.f_oneway(data1, data2)\n",
    "    return f_value, p_value\n",
    "\n",
    "data1 = [23, 25, 28, 32, 35]\n",
    "data2 = [18, 20, 22, 25, 30]\n",
    "f_value, p_value = calculate_f_value_and_p_value(data1, data2)\n",
    "print(f\"F-value: {f_value}\")\n",
    "print(f\"P-value: {p_value}\")\n"
   ]
  },
  {
   "cell_type": "markdown",
   "metadata": {},
   "source": [
    "**Q2.** Given a significance level of 0.05 and the degrees of freedom for the numerator and denominator of an F-distribution, write a Python function that returns the critical F-value for a two-tailed test."
   ]
  },
  {
   "cell_type": "code",
   "execution_count": 6,
   "metadata": {},
   "outputs": [
    {
     "name": "stdout",
     "output_type": "stream",
     "text": [
      "Critical F-value: 4.07682306196248\n"
     ]
    }
   ],
   "source": [
    "import scipy.stats as stats\n",
    "\n",
    "def find_critical_f_value(alpha, dfn, dfd):\n",
    "    critical_f_value = stats.f.ppf(1 - alpha/2, dfn, dfd)\n",
    "    return critical_f_value\n",
    "\n",
    "\n",
    "alpha = 0.05  # Significance level\n",
    "dfn = 3      # Degrees of freedom for the numerator\n",
    "dfd = 16     # Degrees of freedom for the denominator\n",
    "\n",
    "critical_f = find_critical_f_value(alpha, dfn, dfd)\n",
    "print(f\"Critical F-value: {critical_f}\")\n"
   ]
  },
  {
   "cell_type": "markdown",
   "metadata": {},
   "source": [
    "**Q3.** Write a Python program that generates random samples from two normal distributions with known variances and uses an F-test to determine if the variances are equal.\n",
    "\n",
    " The program should output the F-value, degrees of freedom, and p-value for the test."
   ]
  },
  {
   "cell_type": "code",
   "execution_count": 23,
   "metadata": {},
   "outputs": [
    {
     "name": "stdout",
     "output_type": "stream",
     "text": [
      "F-value: 2.2807090767874514\n",
      "Degrees of Freedom (numerator, denominator): (49, 49)\n",
      "P-value: 0.0046\n",
      "Reject the null hypothesis: Variances are not equal.\n"
     ]
    }
   ],
   "source": [
    "import numpy as np\n",
    "import scipy.stats as stats\n",
    "\n",
    "np.random.seed(42)\n",
    "\n",
    "# Define parameters for the two normal distributions\n",
    "mean1 = 0\n",
    "mean2 = 0\n",
    "variance1 = 1\n",
    "variance2 = 0.5\n",
    "\n",
    "sample_size = 50\n",
    "data1 = np.random.normal(mean1, np.sqrt(variance1), sample_size)\n",
    "data2 = np.random.normal(mean2, np.sqrt(variance2), sample_size)\n",
    "\n",
    "\n",
    "f_statistic = np.var(data1, ddof=1) / np.var(data2, ddof=1)\n",
    "dfn = len(data1) - 1\n",
    "dfd = len(data2) - 1\n",
    "p_value = 2 * (1 - stats.f.cdf(f_statistic, dfn, dfd))  # Two-tailed test\n",
    "\n",
    "\n",
    "print(f\"F-value: {f_statistic}\")\n",
    "print(f\"Degrees of Freedom (numerator, denominator): ({dfn}, {dfd})\")\n",
    "print(f\"P-value: {p_value:.4f}\")\n",
    "\n",
    "# Determine if variances are equal based on the p-value\n",
    "alpha = 0.05  # Significance level\n",
    "if p_value < alpha:\n",
    "    print(\"Reject the null hypothesis: Variances are not equal.\")\n",
    "else:\n",
    "    print(\"Fail to reject the null hypothesis: Variances are equal.\")\n"
   ]
  },
  {
   "cell_type": "markdown",
   "metadata": {},
   "source": [
    "**Q4.**The variances of two populations are known to be 10 and 15. A sample of 12 observations is taken from\n",
    "each population. Conduct an F-test at the 5% significance level to determine if the variances are\n",
    "significantly different."
   ]
  },
  {
   "cell_type": "code",
   "execution_count": 27,
   "metadata": {},
   "outputs": [
    {
     "name": "stdout",
     "output_type": "stream",
     "text": [
      "Calculated F-statistic: 0.6667\n",
      "Critical F-value: 3.4737\n",
      "Fail to reject the null hypothesis: Variances are not significantly different.\n"
     ]
    }
   ],
   "source": [
    "import scipy.stats as stats\n",
    "\n",
    "# Known variances of the two populations\n",
    "variance1 = 10\n",
    "variance2 = 15\n",
    "\n",
    "sample_size = 12\n",
    "\n",
    "# Calculate the F-statistic\n",
    "f_statistic = variance1 / variance2\n",
    "\n",
    "# Degrees of freedom\n",
    "dfn = sample_size - 1\n",
    "dfd = sample_size - 1\n",
    "\n",
    "# significance level\n",
    "alpha = 0.05\n",
    "\n",
    "# Find the critical F-value at α/2 for a two-tailed test\n",
    "critical_f_value = stats.f.ppf(1 - alpha / 2, dfn, dfd)\n",
    "\n",
    "print(f\"Calculated F-statistic: {f_statistic:.4f}\")\n",
    "print(f\"Critical F-value: {critical_f_value:.4f}\")\n",
    "\n",
    "if f_statistic > critical_f_value:\n",
    "    print(\"Reject the null hypothesis: Variances are significantly different.\")\n",
    "else:\n",
    "    print(\"Fail to reject the null hypothesis: Variances are not significantly different.\")\n"
   ]
  },
  {
   "cell_type": "markdown",
   "metadata": {},
   "source": [
    "**Q5.** A manufacturer claims that the variance of the diameter of a certain product is 0.005. A sample of 25\n",
    "products is taken, and the sample variance is found to be 0.006. Conduct an F-test at the 1% significance\n",
    "level to determine if the claim is justified."
   ]
  },
  {
   "cell_type": "code",
   "execution_count": 28,
   "metadata": {},
   "outputs": [
    {
     "name": "stdout",
     "output_type": "stream",
     "text": [
      "Calculated F-statistic: 1.2000\n",
      "Critical F-value: 2.9667\n",
      "Fail to reject the null hypothesis: The claim is justified.\n"
     ]
    }
   ],
   "source": [
    "import scipy.stats as stats\n",
    "\n",
    "# Known claimed variance\n",
    "claimed_variance = 0.005\n",
    "\n",
    "# Sample variance\n",
    "sample_variance = 0.006\n",
    "\n",
    "sample_size = 25\n",
    "\n",
    "# Calculate the F-statistic\n",
    "f_statistic = sample_variance / claimed_variance\n",
    "\n",
    "# Degrees of freedom\n",
    "dfn = sample_size - 1\n",
    "dfd = sample_size - 1\n",
    "\n",
    "# Significance level\n",
    "alpha = 0.01\n",
    "\n",
    "# Find the critical F-value at α/2 for a two-tailed test\n",
    "critical_f_value = stats.f.ppf(1 - alpha / 2, dfn, dfd)\n",
    "\n",
    "print(f\"Calculated F-statistic: {f_statistic:.4f}\")\n",
    "print(f\"Critical F-value: {critical_f_value:.4f}\")\n",
    "\n",
    "if f_statistic > critical_f_value:\n",
    "    print(\"Reject the null hypothesis: The claim is not justified.\")\n",
    "else:\n",
    "    print(\"Fail to reject the null hypothesis: The claim is justified.\")\n"
   ]
  },
  {
   "cell_type": "markdown",
   "metadata": {},
   "source": [
    "**Q6.** Write a Python function that takes in the degrees of freedom for the numerator and denominator of an\n",
    "F-distribution and calculates the mean and variance of the distribution. The function should return the\n",
    "mean and variance as a tuple."
   ]
  },
  {
   "cell_type": "code",
   "execution_count": 29,
   "metadata": {},
   "outputs": [],
   "source": [
    "def mean_and_variance_of_fdistribution(dfn, dfd):\n",
    "    if dfd <= 2:\n",
    "        raise ValueError(\"Degrees of freedom for the denominator (dfd) must be greater than 2.\")\n",
    "    \n",
    "    mean = dfd / (dfd - 2)\n",
    "    \n",
    "    if dfd > 4:\n",
    "        variance = (2 * (dfd ** 2 * (dfn + dfd - 2))) / (dfn * (dfd - 2) ** 2 * (dfd - 4))\n",
    "    else:\n",
    "        variance = float('inf')  # If dfd <= 4, variance is infinite\n",
    "    \n",
    "    return mean, variance\n",
    "\n"
   ]
  },
  {
   "cell_type": "code",
   "execution_count": 36,
   "metadata": {},
   "outputs": [
    {
     "name": "stdout",
     "output_type": "stream",
     "text": [
      "Mean: 1.500\n",
      "Variance: 4.050\n"
     ]
    }
   ],
   "source": [
    "# Example\n",
    "dfn = 5\n",
    "dfd = 6\n",
    "mean, variance = mean_and_variance_of_fdistribution(dfn, dfd)\n",
    "print(f\"Mean: {mean:.3f}\")\n",
    "print(f\"Variance: {variance:.3f}\")\n"
   ]
  },
  {
   "cell_type": "markdown",
   "metadata": {},
   "source": [
    "**Q7.** A random sample of 10 measurements is taken from a normal population with unknown variance. The\n",
    "sample variance is found to be 25. Another random sample of 15 measurements is taken from another\n",
    "normal population with unknown variance, and the sample variance is found to be 20. Conduct an F-test\n",
    "at the 10% significance level to determine if the variances are significantly different."
   ]
  },
  {
   "cell_type": "code",
   "execution_count": 38,
   "metadata": {},
   "outputs": [
    {
     "name": "stdout",
     "output_type": "stream",
     "text": [
      "Calculated F-statistic: 1.2500\n",
      "Critical F-value: 3.1789\n",
      "Fail to reject the null hypothesis: Variances are not significantly different.\n"
     ]
    }
   ],
   "source": [
    "import scipy.stats as stats\n",
    "\n",
    "# Sample variances\n",
    "sample_variance1 = 25\n",
    "sample_variance2 = 20\n",
    "\n",
    "# Degrees of freedom\n",
    "dfn1 = 10 - 1\n",
    "dfd1 = 10 - 1\n",
    "dfn2 = 15 - 1\n",
    "dfd2 = 15 - 1\n",
    "\n",
    "# Calculate the F-statistic\n",
    "f_statistic = sample_variance1 / sample_variance2\n",
    "\n",
    "# Significance level\n",
    "alpha = 0.10\n",
    "\n",
    "# Find the critical F-value at α/2 for a two-tailed test\n",
    "critical_f_value = stats.f.ppf(1 - alpha / 2, dfn1, dfd1)\n",
    "\n",
    "print(f\"Calculated F-statistic: {f_statistic:.4f}\")\n",
    "print(f\"Critical F-value: {critical_f_value:.4f}\")\n",
    "\n",
    "if f_statistic > critical_f_value:\n",
    "    print(\"Reject the null hypothesis: Variances are significantly different.\")\n",
    "else:\n",
    "    print(\"Fail to reject the null hypothesis: Variances are not significantly different.\")\n"
   ]
  },
  {
   "cell_type": "markdown",
   "metadata": {},
   "source": [
    "**Q8.** The following data represent the waiting times in minutes at two different restaurants on a Saturday\n",
    "night: Restaurant A: 24, 25, 28, 23, 22, 20, 27; Restaurant B: 31, 33, 35, 30, 32, 36. Conduct an F-test at the 5%\n",
    "significance level to determine if the variances are significantly different."
   ]
  },
  {
   "cell_type": "code",
   "execution_count": 42,
   "metadata": {},
   "outputs": [
    {
     "name": "stdout",
     "output_type": "stream",
     "text": [
      "Calculated F-statistic: 1.4552\n",
      "Critical F-value: 6.9777\n",
      "Fail to reject the null hypothesis: Variances are not significantly different.\n"
     ]
    }
   ],
   "source": [
    "import numpy as np\n",
    "import scipy.stats as stats\n",
    "\n",
    "# Waiting times data\n",
    "waiting_times_a = np.array([24, 25, 28, 23, 22, 20, 27])\n",
    "waiting_times_b = np.array([31, 33, 35, 30, 32, 36])\n",
    "\n",
    "# Calculate sample variances\n",
    "variance_a = np.var(waiting_times_a, ddof=1)\n",
    "variance_b = np.var(waiting_times_b, ddof=1)\n",
    "\n",
    "# Calculate F-statistic\n",
    "f_statistic = variance_a / variance_b\n",
    "\n",
    "# Degrees of freedom\n",
    "df_a = len(waiting_times_a) - 1\n",
    "df_b = len(waiting_times_b) - 1\n",
    "\n",
    "# Calculate critical F-value\n",
    "alpha = 0.05\n",
    "critical_f_value = stats.f.ppf(1 - alpha / 2, df_a, df_b)\n",
    "\n",
    "print(f\"Calculated F-statistic: {f_statistic:.4f}\")\n",
    "print(f\"Critical F-value: {critical_f_value:.4f}\")\n",
    "\n",
    "if f_statistic > critical_f_value:\n",
    "    print(\"Reject the null hypothesis: Variances are significantly different.\")\n",
    "else:\n",
    "    print(\"Fail to reject the null hypothesis: Variances are not significantly different.\")\n"
   ]
  },
  {
   "cell_type": "markdown",
   "metadata": {},
   "source": [
    "**Q9.** The following data represent the test scores of two groups of students: Group A: 80, 85, 90, 92, 87, 83;\n",
    "Group B: 75, 78, 82, 79, 81, 84. Conduct an F-test at the 1% significance level to determine if the variances\n",
    "are significantly different."
   ]
  },
  {
   "cell_type": "code",
   "execution_count": 43,
   "metadata": {},
   "outputs": [
    {
     "name": "stdout",
     "output_type": "stream",
     "text": [
      "Calculated F-statistic: 1.9443\n",
      "Critical F-value: 14.9396\n",
      "Fail to reject the null hypothesis: Variances are not significantly different.\n"
     ]
    }
   ],
   "source": [
    "import numpy as np\n",
    "import scipy.stats as stats\n",
    "\n",
    "# Test scores data\n",
    "group_a_scores = np.array([80, 85, 90, 92, 87, 83])\n",
    "group_b_scores = np.array([75, 78, 82, 79, 81, 84])\n",
    "\n",
    "\n",
    "variance_a = np.var(group_a_scores, ddof=1)\n",
    "variance_b = np.var(group_b_scores, ddof=1)\n",
    "\n",
    "# Degrees of freedom\n",
    "df_a = len(group_a_scores) - 1\n",
    "df_b = len(group_b_scores) - 1\n",
    "\n",
    "# Calculate F-statistic\n",
    "f_statistic = variance_a / variance_b\n",
    "\n",
    "# Critical F-value at alpha = 0.01\n",
    "alpha = 0.01\n",
    "critical_f_value = stats.f.ppf(1 - alpha / 2, df_a, df_b)\n",
    "\n",
    "print(f\"Calculated F-statistic: {f_statistic:.4f}\")\n",
    "print(f\"Critical F-value: {critical_f_value:.4f}\")\n",
    "\n",
    "\n",
    "if f_statistic > critical_f_value:\n",
    "    print(\"Reject the null hypothesis: Variances are significantly different.\")\n",
    "else:\n",
    "    print(\"Fail to reject the null hypothesis: Variances are not significantly different.\")\n"
   ]
  },
  {
   "cell_type": "code",
   "execution_count": null,
   "metadata": {},
   "outputs": [],
   "source": []
  }
 ],
 "metadata": {
  "kernelspec": {
   "display_name": "Python 3",
   "language": "python",
   "name": "python3"
  },
  "language_info": {
   "codemirror_mode": {
    "name": "ipython",
    "version": 3
   },
   "file_extension": ".py",
   "mimetype": "text/x-python",
   "name": "python",
   "nbconvert_exporter": "python",
   "pygments_lexer": "ipython3",
   "version": "3.11.1"
  }
 },
 "nbformat": 4,
 "nbformat_minor": 2
}
